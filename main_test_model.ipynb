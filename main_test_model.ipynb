{
 "cells": [
  {
   "cell_type": "code",
   "execution_count": null,
   "metadata": {},
   "outputs": [],
   "source": [
    "%matplotlib inline\n",
    "import hyperspy.api as hs\n",
    "import numpy as np\n",
    "import matplotlib.pyplot as plt\n",
    "import atomap.api as am\n",
    "\n",
    "import torch\n",
    "import torch.nn as nn\n",
    "import torch.nn.functional as F\n",
    "import torch.optim as optim\n",
    "\n",
    "from model.models import *\n",
    "from utils.utils import *"
   ]
  },
  {
   "cell_type": "code",
   "execution_count": null,
   "metadata": {},
   "outputs": [],
   "source": [
    "#write IMAGE_DIR & MATERIAL and run the cell!\n",
    "IMAGE_DIR = 'example/V-WSe2/20MX 80kV Image1 7732.dm4' # Please confirm the example folder\n",
    "MATERIAL = 'V-WSe2' # 'V-WSe2' or 'V-MoS2'\n",
    "\n",
    "\n",
    "#============================DEEP NEURAL NETWORK MODEL CALCULATION=======================================\n",
    "\n",
    "DEVICE = torch.device('cuda' if torch.cuda.is_available() else 'cpu')\n",
    "\n",
    "input_img = hs.load(IMAGE_DIR)\n",
    "input_arr = image_preprocessing(input_img, device = DEVICE)\n",
    "\n",
    "denoising_net, peak_net, class_net = load_trained_model(material = MATERIAL,\n",
    "                                                        device = DEVICE)\n",
    "denoised_sig, mapping_sig, quantitative_result = run_model(input_arr, denoising_net, peak_net, class_net)\n",
    "\n",
    "\n",
    "\n",
    "input_img.plot(scalebar = False, colorbar = False)\n",
    "denoised_sig.plot(scalebar = False, colorbar = False)\n",
    "\n",
    "mapping_sig.plot(scalebar = False, colorbar = False)\n",
    "\n",
    "print_quantitative_information(quantitative_result, MATERIAL)"
   ]
  },
  {
   "cell_type": "code",
   "execution_count": null,
   "metadata": {},
   "outputs": [],
   "source": []
  }
 ],
 "metadata": {
  "kernelspec": {
   "display_name": "Python 3",
   "language": "python",
   "name": "python3"
  },
  "language_info": {
   "codemirror_mode": {
    "name": "ipython",
    "version": 3
   },
   "file_extension": ".py",
   "mimetype": "text/x-python",
   "name": "python",
   "nbconvert_exporter": "python",
   "pygments_lexer": "ipython3",
   "version": "3.7.6"
  }
 },
 "nbformat": 4,
 "nbformat_minor": 4
}
